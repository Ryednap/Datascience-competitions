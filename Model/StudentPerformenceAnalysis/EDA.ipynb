{
 "cells": [
  {
   "cell_type": "code",
   "execution_count": 1,
   "metadata": {},
   "outputs": [
    {
     "name": "stdout",
     "output_type": "stream",
     "text": [
      "Setup Complete\n"
     ]
    }
   ],
   "source": [
    "import pandas as pd\n",
    "import seaborn as sns\n",
    "import matplotlib.pyplot as plt\n",
    "%matplotlib inline\n",
    "print(\"Setup Complete\")"
   ]
  },
  {
   "cell_type": "code",
   "execution_count": 2,
   "metadata": {},
   "outputs": [
    {
     "data": {
      "text/html": [
       "<style type=\"text/css\">\n",
       "#T_0e689_row0_col0, #T_0e689_row0_col1, #T_0e689_row0_col2, #T_0e689_row0_col3, #T_0e689_row0_col4, #T_0e689_row0_col5, #T_0e689_row0_col6, #T_0e689_row0_col7, #T_0e689_row1_col0, #T_0e689_row1_col1, #T_0e689_row1_col2, #T_0e689_row1_col3, #T_0e689_row1_col4, #T_0e689_row1_col5, #T_0e689_row1_col6, #T_0e689_row1_col7, #T_0e689_row2_col0, #T_0e689_row2_col1, #T_0e689_row2_col2, #T_0e689_row2_col3, #T_0e689_row2_col4, #T_0e689_row2_col5, #T_0e689_row2_col6, #T_0e689_row2_col7, #T_0e689_row3_col0, #T_0e689_row3_col1, #T_0e689_row3_col2, #T_0e689_row3_col3, #T_0e689_row3_col4, #T_0e689_row3_col5, #T_0e689_row3_col6, #T_0e689_row3_col7, #T_0e689_row4_col0, #T_0e689_row4_col1, #T_0e689_row4_col2, #T_0e689_row4_col3, #T_0e689_row4_col4, #T_0e689_row4_col5, #T_0e689_row4_col6, #T_0e689_row4_col7, #T_0e689_row5_col0, #T_0e689_row5_col1, #T_0e689_row5_col2, #T_0e689_row5_col3, #T_0e689_row5_col4, #T_0e689_row5_col5, #T_0e689_row5_col6, #T_0e689_row5_col7, #T_0e689_row6_col0, #T_0e689_row6_col1, #T_0e689_row6_col2, #T_0e689_row6_col3, #T_0e689_row6_col4, #T_0e689_row6_col5, #T_0e689_row6_col6, #T_0e689_row6_col7, #T_0e689_row7_col0, #T_0e689_row7_col1, #T_0e689_row7_col2, #T_0e689_row7_col3, #T_0e689_row7_col4, #T_0e689_row7_col5, #T_0e689_row7_col6, #T_0e689_row7_col7, #T_0e689_row8_col0, #T_0e689_row8_col1, #T_0e689_row8_col2, #T_0e689_row8_col3, #T_0e689_row8_col4, #T_0e689_row8_col5, #T_0e689_row8_col6, #T_0e689_row8_col7, #T_0e689_row9_col0, #T_0e689_row9_col1, #T_0e689_row9_col2, #T_0e689_row9_col3, #T_0e689_row9_col4, #T_0e689_row9_col5, #T_0e689_row9_col6, #T_0e689_row9_col7 {\n",
       "  background-color: black;\n",
       "  color: white;\n",
       "  border-color: blue;\n",
       "}\n",
       "</style>\n",
       "<table id=\"T_0e689_\">\n",
       "  <thead>\n",
       "    <tr>\n",
       "      <th class=\"blank level0\" >&nbsp;</th>\n",
       "      <th class=\"col_heading level0 col0\" >gender</th>\n",
       "      <th class=\"col_heading level0 col1\" >race/ethnicity</th>\n",
       "      <th class=\"col_heading level0 col2\" >parental level of education</th>\n",
       "      <th class=\"col_heading level0 col3\" >lunch</th>\n",
       "      <th class=\"col_heading level0 col4\" >test preparation course</th>\n",
       "      <th class=\"col_heading level0 col5\" >math score</th>\n",
       "      <th class=\"col_heading level0 col6\" >reading score</th>\n",
       "      <th class=\"col_heading level0 col7\" >writing score</th>\n",
       "    </tr>\n",
       "  </thead>\n",
       "  <tbody>\n",
       "    <tr>\n",
       "      <th id=\"T_0e689_level0_row0\" class=\"row_heading level0 row0\" >0</th>\n",
       "      <td id=\"T_0e689_row0_col0\" class=\"data row0 col0\" >female</td>\n",
       "      <td id=\"T_0e689_row0_col1\" class=\"data row0 col1\" >group B</td>\n",
       "      <td id=\"T_0e689_row0_col2\" class=\"data row0 col2\" >bachelor's degree</td>\n",
       "      <td id=\"T_0e689_row0_col3\" class=\"data row0 col3\" >standard</td>\n",
       "      <td id=\"T_0e689_row0_col4\" class=\"data row0 col4\" >none</td>\n",
       "      <td id=\"T_0e689_row0_col5\" class=\"data row0 col5\" >72</td>\n",
       "      <td id=\"T_0e689_row0_col6\" class=\"data row0 col6\" >72</td>\n",
       "      <td id=\"T_0e689_row0_col7\" class=\"data row0 col7\" >74</td>\n",
       "    </tr>\n",
       "    <tr>\n",
       "      <th id=\"T_0e689_level0_row1\" class=\"row_heading level0 row1\" >1</th>\n",
       "      <td id=\"T_0e689_row1_col0\" class=\"data row1 col0\" >female</td>\n",
       "      <td id=\"T_0e689_row1_col1\" class=\"data row1 col1\" >group C</td>\n",
       "      <td id=\"T_0e689_row1_col2\" class=\"data row1 col2\" >some college</td>\n",
       "      <td id=\"T_0e689_row1_col3\" class=\"data row1 col3\" >standard</td>\n",
       "      <td id=\"T_0e689_row1_col4\" class=\"data row1 col4\" >completed</td>\n",
       "      <td id=\"T_0e689_row1_col5\" class=\"data row1 col5\" >69</td>\n",
       "      <td id=\"T_0e689_row1_col6\" class=\"data row1 col6\" >90</td>\n",
       "      <td id=\"T_0e689_row1_col7\" class=\"data row1 col7\" >88</td>\n",
       "    </tr>\n",
       "    <tr>\n",
       "      <th id=\"T_0e689_level0_row2\" class=\"row_heading level0 row2\" >2</th>\n",
       "      <td id=\"T_0e689_row2_col0\" class=\"data row2 col0\" >female</td>\n",
       "      <td id=\"T_0e689_row2_col1\" class=\"data row2 col1\" >group B</td>\n",
       "      <td id=\"T_0e689_row2_col2\" class=\"data row2 col2\" >master's degree</td>\n",
       "      <td id=\"T_0e689_row2_col3\" class=\"data row2 col3\" >standard</td>\n",
       "      <td id=\"T_0e689_row2_col4\" class=\"data row2 col4\" >none</td>\n",
       "      <td id=\"T_0e689_row2_col5\" class=\"data row2 col5\" >90</td>\n",
       "      <td id=\"T_0e689_row2_col6\" class=\"data row2 col6\" >95</td>\n",
       "      <td id=\"T_0e689_row2_col7\" class=\"data row2 col7\" >93</td>\n",
       "    </tr>\n",
       "    <tr>\n",
       "      <th id=\"T_0e689_level0_row3\" class=\"row_heading level0 row3\" >3</th>\n",
       "      <td id=\"T_0e689_row3_col0\" class=\"data row3 col0\" >male</td>\n",
       "      <td id=\"T_0e689_row3_col1\" class=\"data row3 col1\" >group A</td>\n",
       "      <td id=\"T_0e689_row3_col2\" class=\"data row3 col2\" >associate's degree</td>\n",
       "      <td id=\"T_0e689_row3_col3\" class=\"data row3 col3\" >free/reduced</td>\n",
       "      <td id=\"T_0e689_row3_col4\" class=\"data row3 col4\" >none</td>\n",
       "      <td id=\"T_0e689_row3_col5\" class=\"data row3 col5\" >47</td>\n",
       "      <td id=\"T_0e689_row3_col6\" class=\"data row3 col6\" >57</td>\n",
       "      <td id=\"T_0e689_row3_col7\" class=\"data row3 col7\" >44</td>\n",
       "    </tr>\n",
       "    <tr>\n",
       "      <th id=\"T_0e689_level0_row4\" class=\"row_heading level0 row4\" >4</th>\n",
       "      <td id=\"T_0e689_row4_col0\" class=\"data row4 col0\" >male</td>\n",
       "      <td id=\"T_0e689_row4_col1\" class=\"data row4 col1\" >group C</td>\n",
       "      <td id=\"T_0e689_row4_col2\" class=\"data row4 col2\" >some college</td>\n",
       "      <td id=\"T_0e689_row4_col3\" class=\"data row4 col3\" >standard</td>\n",
       "      <td id=\"T_0e689_row4_col4\" class=\"data row4 col4\" >none</td>\n",
       "      <td id=\"T_0e689_row4_col5\" class=\"data row4 col5\" >76</td>\n",
       "      <td id=\"T_0e689_row4_col6\" class=\"data row4 col6\" >78</td>\n",
       "      <td id=\"T_0e689_row4_col7\" class=\"data row4 col7\" >75</td>\n",
       "    </tr>\n",
       "    <tr>\n",
       "      <th id=\"T_0e689_level0_row5\" class=\"row_heading level0 row5\" >5</th>\n",
       "      <td id=\"T_0e689_row5_col0\" class=\"data row5 col0\" >female</td>\n",
       "      <td id=\"T_0e689_row5_col1\" class=\"data row5 col1\" >group B</td>\n",
       "      <td id=\"T_0e689_row5_col2\" class=\"data row5 col2\" >associate's degree</td>\n",
       "      <td id=\"T_0e689_row5_col3\" class=\"data row5 col3\" >standard</td>\n",
       "      <td id=\"T_0e689_row5_col4\" class=\"data row5 col4\" >none</td>\n",
       "      <td id=\"T_0e689_row5_col5\" class=\"data row5 col5\" >71</td>\n",
       "      <td id=\"T_0e689_row5_col6\" class=\"data row5 col6\" >83</td>\n",
       "      <td id=\"T_0e689_row5_col7\" class=\"data row5 col7\" >78</td>\n",
       "    </tr>\n",
       "    <tr>\n",
       "      <th id=\"T_0e689_level0_row6\" class=\"row_heading level0 row6\" >6</th>\n",
       "      <td id=\"T_0e689_row6_col0\" class=\"data row6 col0\" >female</td>\n",
       "      <td id=\"T_0e689_row6_col1\" class=\"data row6 col1\" >group B</td>\n",
       "      <td id=\"T_0e689_row6_col2\" class=\"data row6 col2\" >some college</td>\n",
       "      <td id=\"T_0e689_row6_col3\" class=\"data row6 col3\" >standard</td>\n",
       "      <td id=\"T_0e689_row6_col4\" class=\"data row6 col4\" >completed</td>\n",
       "      <td id=\"T_0e689_row6_col5\" class=\"data row6 col5\" >88</td>\n",
       "      <td id=\"T_0e689_row6_col6\" class=\"data row6 col6\" >95</td>\n",
       "      <td id=\"T_0e689_row6_col7\" class=\"data row6 col7\" >92</td>\n",
       "    </tr>\n",
       "    <tr>\n",
       "      <th id=\"T_0e689_level0_row7\" class=\"row_heading level0 row7\" >7</th>\n",
       "      <td id=\"T_0e689_row7_col0\" class=\"data row7 col0\" >male</td>\n",
       "      <td id=\"T_0e689_row7_col1\" class=\"data row7 col1\" >group B</td>\n",
       "      <td id=\"T_0e689_row7_col2\" class=\"data row7 col2\" >some college</td>\n",
       "      <td id=\"T_0e689_row7_col3\" class=\"data row7 col3\" >free/reduced</td>\n",
       "      <td id=\"T_0e689_row7_col4\" class=\"data row7 col4\" >none</td>\n",
       "      <td id=\"T_0e689_row7_col5\" class=\"data row7 col5\" >40</td>\n",
       "      <td id=\"T_0e689_row7_col6\" class=\"data row7 col6\" >43</td>\n",
       "      <td id=\"T_0e689_row7_col7\" class=\"data row7 col7\" >39</td>\n",
       "    </tr>\n",
       "    <tr>\n",
       "      <th id=\"T_0e689_level0_row8\" class=\"row_heading level0 row8\" >8</th>\n",
       "      <td id=\"T_0e689_row8_col0\" class=\"data row8 col0\" >male</td>\n",
       "      <td id=\"T_0e689_row8_col1\" class=\"data row8 col1\" >group D</td>\n",
       "      <td id=\"T_0e689_row8_col2\" class=\"data row8 col2\" >high school</td>\n",
       "      <td id=\"T_0e689_row8_col3\" class=\"data row8 col3\" >free/reduced</td>\n",
       "      <td id=\"T_0e689_row8_col4\" class=\"data row8 col4\" >completed</td>\n",
       "      <td id=\"T_0e689_row8_col5\" class=\"data row8 col5\" >64</td>\n",
       "      <td id=\"T_0e689_row8_col6\" class=\"data row8 col6\" >64</td>\n",
       "      <td id=\"T_0e689_row8_col7\" class=\"data row8 col7\" >67</td>\n",
       "    </tr>\n",
       "    <tr>\n",
       "      <th id=\"T_0e689_level0_row9\" class=\"row_heading level0 row9\" >9</th>\n",
       "      <td id=\"T_0e689_row9_col0\" class=\"data row9 col0\" >female</td>\n",
       "      <td id=\"T_0e689_row9_col1\" class=\"data row9 col1\" >group B</td>\n",
       "      <td id=\"T_0e689_row9_col2\" class=\"data row9 col2\" >high school</td>\n",
       "      <td id=\"T_0e689_row9_col3\" class=\"data row9 col3\" >free/reduced</td>\n",
       "      <td id=\"T_0e689_row9_col4\" class=\"data row9 col4\" >none</td>\n",
       "      <td id=\"T_0e689_row9_col5\" class=\"data row9 col5\" >38</td>\n",
       "      <td id=\"T_0e689_row9_col6\" class=\"data row9 col6\" >60</td>\n",
       "      <td id=\"T_0e689_row9_col7\" class=\"data row9 col7\" >50</td>\n",
       "    </tr>\n",
       "  </tbody>\n",
       "</table>\n"
      ],
      "text/plain": [
       "<pandas.io.formats.style.Styler at 0x7ff358f87250>"
      ]
     },
     "execution_count": 2,
     "metadata": {},
     "output_type": "execute_result"
    }
   ],
   "source": [
    "df = pd.read_csv(\"StudentsPerformance.csv\")\n",
    "df.head(10).style.set_properties(**{\n",
    "    \"background-color\" : \"black\",\n",
    "    \"color\" : \"white\",\n",
    "    \"border-color\" : \"blue\"\n",
    "})"
   ]
  },
  {
   "cell_type": "code",
   "execution_count": 3,
   "metadata": {},
   "outputs": [
    {
     "data": {
      "text/html": [
       "<div>\n",
       "<style scoped>\n",
       "    .dataframe tbody tr th:only-of-type {\n",
       "        vertical-align: middle;\n",
       "    }\n",
       "\n",
       "    .dataframe tbody tr th {\n",
       "        vertical-align: top;\n",
       "    }\n",
       "\n",
       "    .dataframe thead th {\n",
       "        text-align: right;\n",
       "    }\n",
       "</style>\n",
       "<table border=\"1\" class=\"dataframe\">\n",
       "  <thead>\n",
       "    <tr style=\"text-align: right;\">\n",
       "      <th></th>\n",
       "      <th>math score</th>\n",
       "      <th>reading score</th>\n",
       "      <th>writing score</th>\n",
       "    </tr>\n",
       "  </thead>\n",
       "  <tbody>\n",
       "    <tr>\n",
       "      <th>count</th>\n",
       "      <td>1000.00000</td>\n",
       "      <td>1000.000000</td>\n",
       "      <td>1000.000000</td>\n",
       "    </tr>\n",
       "    <tr>\n",
       "      <th>mean</th>\n",
       "      <td>66.08900</td>\n",
       "      <td>69.169000</td>\n",
       "      <td>68.054000</td>\n",
       "    </tr>\n",
       "    <tr>\n",
       "      <th>std</th>\n",
       "      <td>15.16308</td>\n",
       "      <td>14.600192</td>\n",
       "      <td>15.195657</td>\n",
       "    </tr>\n",
       "    <tr>\n",
       "      <th>min</th>\n",
       "      <td>0.00000</td>\n",
       "      <td>17.000000</td>\n",
       "      <td>10.000000</td>\n",
       "    </tr>\n",
       "    <tr>\n",
       "      <th>25%</th>\n",
       "      <td>57.00000</td>\n",
       "      <td>59.000000</td>\n",
       "      <td>57.750000</td>\n",
       "    </tr>\n",
       "    <tr>\n",
       "      <th>50%</th>\n",
       "      <td>66.00000</td>\n",
       "      <td>70.000000</td>\n",
       "      <td>69.000000</td>\n",
       "    </tr>\n",
       "    <tr>\n",
       "      <th>75%</th>\n",
       "      <td>77.00000</td>\n",
       "      <td>79.000000</td>\n",
       "      <td>79.000000</td>\n",
       "    </tr>\n",
       "    <tr>\n",
       "      <th>max</th>\n",
       "      <td>100.00000</td>\n",
       "      <td>100.000000</td>\n",
       "      <td>100.000000</td>\n",
       "    </tr>\n",
       "  </tbody>\n",
       "</table>\n",
       "</div>"
      ],
      "text/plain": [
       "       math score  reading score  writing score\n",
       "count  1000.00000    1000.000000    1000.000000\n",
       "mean     66.08900      69.169000      68.054000\n",
       "std      15.16308      14.600192      15.195657\n",
       "min       0.00000      17.000000      10.000000\n",
       "25%      57.00000      59.000000      57.750000\n",
       "50%      66.00000      70.000000      69.000000\n",
       "75%      77.00000      79.000000      79.000000\n",
       "max     100.00000     100.000000     100.000000"
      ]
     },
     "execution_count": 3,
     "metadata": {},
     "output_type": "execute_result"
    }
   ],
   "source": [
    "df.describe()"
   ]
  },
  {
   "cell_type": "code",
   "execution_count": 4,
   "metadata": {},
   "outputs": [
    {
     "data": {
      "text/plain": [
       "(1000, 8)"
      ]
     },
     "execution_count": 4,
     "metadata": {},
     "output_type": "execute_result"
    }
   ],
   "source": [
    "#returns a tuple of (row_height and column_width)\n",
    "df.shape"
   ]
  },
  {
   "cell_type": "code",
   "execution_count": 5,
   "metadata": {},
   "outputs": [
    {
     "data": {
      "text/plain": [
       "gender                         object\n",
       "race/ethnicity                 object\n",
       "parental level of education    object\n",
       "lunch                          object\n",
       "test preparation course        object\n",
       "math score                      int64\n",
       "reading score                   int64\n",
       "writing score                   int64\n",
       "dtype: object"
      ]
     },
     "execution_count": 5,
     "metadata": {},
     "output_type": "execute_result"
    }
   ],
   "source": [
    "# a short description about the type of data-present in each column \n",
    "df.dtypes"
   ]
  },
  {
   "cell_type": "code",
   "execution_count": 6,
   "metadata": {},
   "outputs": [
    {
     "data": {
      "text/plain": [
       "gender                         0\n",
       "race/ethnicity                 0\n",
       "parental level of education    0\n",
       "lunch                          0\n",
       "test preparation course        0\n",
       "math score                     0\n",
       "reading score                  0\n",
       "writing score                  0\n",
       "dtype: int64"
      ]
     },
     "execution_count": 6,
     "metadata": {},
     "output_type": "execute_result"
    }
   ],
   "source": [
    "df.isnull().sum()"
   ]
  },
  {
   "cell_type": "code",
   "execution_count": 7,
   "metadata": {},
   "outputs": [
    {
     "data": {
      "text/plain": [
       "female    518\n",
       "male      482\n",
       "Name: gender, dtype: int64"
      ]
     },
     "execution_count": 7,
     "metadata": {},
     "output_type": "execute_result"
    }
   ],
   "source": [
    "df.gender.value_counts()"
   ]
  },
  {
   "cell_type": "code",
   "execution_count": 8,
   "metadata": {},
   "outputs": [
    {
     "data": {
      "text/plain": [
       "none         642\n",
       "completed    358\n",
       "Name: test preparation course, dtype: int64"
      ]
     },
     "execution_count": 8,
     "metadata": {},
     "output_type": "execute_result"
    }
   ],
   "source": [
    "df[\"test preparation course\"].value_counts()"
   ]
  },
  {
   "cell_type": "code",
   "execution_count": 9,
   "metadata": {},
   "outputs": [
    {
     "data": {
      "text/html": [
       "<div>\n",
       "<style scoped>\n",
       "    .dataframe tbody tr th:only-of-type {\n",
       "        vertical-align: middle;\n",
       "    }\n",
       "\n",
       "    .dataframe tbody tr th {\n",
       "        vertical-align: top;\n",
       "    }\n",
       "\n",
       "    .dataframe thead th {\n",
       "        text-align: right;\n",
       "    }\n",
       "</style>\n",
       "<table border=\"1\" class=\"dataframe\">\n",
       "  <thead>\n",
       "    <tr style=\"text-align: right;\">\n",
       "      <th></th>\n",
       "      <th>gender</th>\n",
       "      <th>race/ethnicity</th>\n",
       "      <th>parental level of education</th>\n",
       "      <th>lunch</th>\n",
       "      <th>test preparation course</th>\n",
       "      <th>math score</th>\n",
       "      <th>reading score</th>\n",
       "      <th>writing score</th>\n",
       "    </tr>\n",
       "  </thead>\n",
       "  <tbody>\n",
       "    <tr>\n",
       "      <th>0</th>\n",
       "      <td>female</td>\n",
       "      <td>group B</td>\n",
       "      <td>bachelor's degree</td>\n",
       "      <td>standard</td>\n",
       "      <td>none</td>\n",
       "      <td>72</td>\n",
       "      <td>72</td>\n",
       "      <td>74</td>\n",
       "    </tr>\n",
       "    <tr>\n",
       "      <th>1</th>\n",
       "      <td>female</td>\n",
       "      <td>group C</td>\n",
       "      <td>some college</td>\n",
       "      <td>standard</td>\n",
       "      <td>completed</td>\n",
       "      <td>69</td>\n",
       "      <td>90</td>\n",
       "      <td>88</td>\n",
       "    </tr>\n",
       "    <tr>\n",
       "      <th>2</th>\n",
       "      <td>female</td>\n",
       "      <td>group B</td>\n",
       "      <td>master's degree</td>\n",
       "      <td>standard</td>\n",
       "      <td>none</td>\n",
       "      <td>90</td>\n",
       "      <td>95</td>\n",
       "      <td>93</td>\n",
       "    </tr>\n",
       "    <tr>\n",
       "      <th>3</th>\n",
       "      <td>male</td>\n",
       "      <td>group A</td>\n",
       "      <td>associate's degree</td>\n",
       "      <td>free/reduced</td>\n",
       "      <td>none</td>\n",
       "      <td>47</td>\n",
       "      <td>57</td>\n",
       "      <td>44</td>\n",
       "    </tr>\n",
       "    <tr>\n",
       "      <th>4</th>\n",
       "      <td>male</td>\n",
       "      <td>group C</td>\n",
       "      <td>some college</td>\n",
       "      <td>standard</td>\n",
       "      <td>none</td>\n",
       "      <td>76</td>\n",
       "      <td>78</td>\n",
       "      <td>75</td>\n",
       "    </tr>\n",
       "  </tbody>\n",
       "</table>\n",
       "</div>"
      ],
      "text/plain": [
       "   gender race/ethnicity parental level of education         lunch  \\\n",
       "0  female        group B           bachelor's degree      standard   \n",
       "1  female        group C                some college      standard   \n",
       "2  female        group B             master's degree      standard   \n",
       "3    male        group A          associate's degree  free/reduced   \n",
       "4    male        group C                some college      standard   \n",
       "\n",
       "  test preparation course  math score  reading score  writing score  \n",
       "0                    none          72             72             74  \n",
       "1               completed          69             90             88  \n",
       "2                    none          90             95             93  \n",
       "3                    none          47             57             44  \n",
       "4                    none          76             78             75  "
      ]
     },
     "execution_count": 9,
     "metadata": {},
     "output_type": "execute_result"
    }
   ],
   "source": [
    "df.head()"
   ]
  },
  {
   "cell_type": "code",
   "execution_count": 10,
   "metadata": {},
   "outputs": [
    {
     "data": {
      "text/plain": [
       "standard        645\n",
       "free/reduced    355\n",
       "Name: lunch, dtype: int64"
      ]
     },
     "execution_count": 10,
     "metadata": {},
     "output_type": "execute_result"
    }
   ],
   "source": [
    "df[\"lunch\"].value_counts()"
   ]
  },
  {
   "cell_type": "code",
   "execution_count": 11,
   "metadata": {},
   "outputs": [],
   "source": [
    "group_data = df.groupby([\"lunch\"]).mean()"
   ]
  },
  {
   "cell_type": "code",
   "execution_count": 12,
   "metadata": {},
   "outputs": [
    {
     "data": {
      "text/html": [
       "<div>\n",
       "<style scoped>\n",
       "    .dataframe tbody tr th:only-of-type {\n",
       "        vertical-align: middle;\n",
       "    }\n",
       "\n",
       "    .dataframe tbody tr th {\n",
       "        vertical-align: top;\n",
       "    }\n",
       "\n",
       "    .dataframe thead th {\n",
       "        text-align: right;\n",
       "    }\n",
       "</style>\n",
       "<table border=\"1\" class=\"dataframe\">\n",
       "  <thead>\n",
       "    <tr style=\"text-align: right;\">\n",
       "      <th></th>\n",
       "      <th>math score</th>\n",
       "      <th>reading score</th>\n",
       "      <th>writing score</th>\n",
       "    </tr>\n",
       "    <tr>\n",
       "      <th>lunch</th>\n",
       "      <th></th>\n",
       "      <th></th>\n",
       "      <th></th>\n",
       "    </tr>\n",
       "  </thead>\n",
       "  <tbody>\n",
       "    <tr>\n",
       "      <th>free/reduced</th>\n",
       "      <td>58.921127</td>\n",
       "      <td>64.653521</td>\n",
       "      <td>63.022535</td>\n",
       "    </tr>\n",
       "    <tr>\n",
       "      <th>standard</th>\n",
       "      <td>70.034109</td>\n",
       "      <td>71.654264</td>\n",
       "      <td>70.823256</td>\n",
       "    </tr>\n",
       "  </tbody>\n",
       "</table>\n",
       "</div>"
      ],
      "text/plain": [
       "              math score  reading score  writing score\n",
       "lunch                                                 \n",
       "free/reduced   58.921127      64.653521      63.022535\n",
       "standard       70.034109      71.654264      70.823256"
      ]
     },
     "execution_count": 12,
     "metadata": {},
     "output_type": "execute_result"
    }
   ],
   "source": [
    "group_data"
   ]
  },
  {
   "cell_type": "code",
   "execution_count": 13,
   "metadata": {},
   "outputs": [
    {
     "data": {
      "text/plain": [
       "<AxesSubplot:title={'center':'Subject Score grouped by mid-time lunch'}, xlabel='lunch', ylabel='mean_score'>"
      ]
     },
     "execution_count": 13,
     "metadata": {},
     "output_type": "execute_result"
    },
    {
     "data": {
      "image/png": "[encoded data removed]",
      "text/plain": [
       "<Figure size 1152x432 with 1 Axes>"
      ]
     },
     "metadata": {
      "needs_background": "light"
     },
     "output_type": "display_data"
    }
   ],
   "source": [
    "group_data.plot(kind = \"bar\", figsize = (16, 6), title = \"Subject Score grouped by mid-time lunch\",\n",
    "    ylabel = \"mean_score\"\n",
    ")"
   ]
  },
  {
   "cell_type": "code",
   "execution_count": 14,
   "metadata": {},
   "outputs": [],
   "source": [
    "course_group = df.groupby([\"test preparation course\"]).mean()"
   ]
  },
  {
   "cell_type": "code",
   "execution_count": 15,
   "metadata": {},
   "outputs": [
    {
     "data": {
      "text/html": [
       "<div>\n",
       "<style scoped>\n",
       "    .dataframe tbody tr th:only-of-type {\n",
       "        vertical-align: middle;\n",
       "    }\n",
       "\n",
       "    .dataframe tbody tr th {\n",
       "        vertical-align: top;\n",
       "    }\n",
       "\n",
       "    .dataframe thead th {\n",
       "        text-align: right;\n",
       "    }\n",
       "</style>\n",
       "<table border=\"1\" class=\"dataframe\">\n",
       "  <thead>\n",
       "    <tr style=\"text-align: right;\">\n",
       "      <th></th>\n",
       "      <th>math score</th>\n",
       "      <th>reading score</th>\n",
       "      <th>writing score</th>\n",
       "    </tr>\n",
       "    <tr>\n",
       "      <th>test preparation course</th>\n",
       "      <th></th>\n",
       "      <th></th>\n",
       "      <th></th>\n",
       "    </tr>\n",
       "  </thead>\n",
       "  <tbody>\n",
       "    <tr>\n",
       "      <th>completed</th>\n",
       "      <td>69.695531</td>\n",
       "      <td>73.893855</td>\n",
       "      <td>74.418994</td>\n",
       "    </tr>\n",
       "    <tr>\n",
       "      <th>none</th>\n",
       "      <td>64.077882</td>\n",
       "      <td>66.534268</td>\n",
       "      <td>64.504673</td>\n",
       "    </tr>\n",
       "  </tbody>\n",
       "</table>\n",
       "</div>"
      ],
      "text/plain": [
       "                         math score  reading score  writing score\n",
       "test preparation course                                          \n",
       "completed                 69.695531      73.893855      74.418994\n",
       "none                      64.077882      66.534268      64.504673"
      ]
     },
     "execution_count": 15,
     "metadata": {},
     "output_type": "execute_result"
    }
   ],
   "source": [
    "course_group"
   ]
  },
  {
   "cell_type": "code",
   "execution_count": 16,
   "metadata": {},
   "outputs": [
    {
     "data": {
      "text/plain": [
       "<AxesSubplot:title={'center':'Score distribution according to prepration course taken'}, xlabel='test preparation course', ylabel='MEAN SCORE'>"
      ]
     },
     "execution_count": 16,
     "metadata": {},
     "output_type": "execute_result"
    },
    {
     "data": {
      "image/png": "[encoded data removed]",
      "text/plain": [
       "<Figure size 1152x432 with 1 Axes>"
      ]
     },
     "metadata": {
      "needs_background": "light"
     },
     "output_type": "display_data"
    }
   ],
   "source": [
    "course_group.plot(kind = \"bar\", figsize = (16, 6), ylabel = \"MEAN SCORE\", title = \"Score distribution according to prepration course taken\")"
   ]
  },
  {
   "cell_type": "code",
   "execution_count": 17,
   "metadata": {},
   "outputs": [
    {
     "data": {
      "text/html": [
       "<div>\n",
       "<style scoped>\n",
       "    .dataframe tbody tr th:only-of-type {\n",
       "        vertical-align: middle;\n",
       "    }\n",
       "\n",
       "    .dataframe tbody tr th {\n",
       "        vertical-align: top;\n",
       "    }\n",
       "\n",
       "    .dataframe thead th {\n",
       "        text-align: right;\n",
       "    }\n",
       "</style>\n",
       "<table border=\"1\" class=\"dataframe\">\n",
       "  <thead>\n",
       "    <tr style=\"text-align: right;\">\n",
       "      <th></th>\n",
       "      <th>gender</th>\n",
       "      <th>race/ethnicity</th>\n",
       "      <th>parental level of education</th>\n",
       "      <th>lunch</th>\n",
       "      <th>test preparation course</th>\n",
       "      <th>math score</th>\n",
       "      <th>reading score</th>\n",
       "      <th>writing score</th>\n",
       "    </tr>\n",
       "  </thead>\n",
       "  <tbody>\n",
       "    <tr>\n",
       "      <th>0</th>\n",
       "      <td>female</td>\n",
       "      <td>group B</td>\n",
       "      <td>bachelor's degree</td>\n",
       "      <td>standard</td>\n",
       "      <td>none</td>\n",
       "      <td>72</td>\n",
       "      <td>72</td>\n",
       "      <td>74</td>\n",
       "    </tr>\n",
       "    <tr>\n",
       "      <th>1</th>\n",
       "      <td>female</td>\n",
       "      <td>group C</td>\n",
       "      <td>some college</td>\n",
       "      <td>standard</td>\n",
       "      <td>completed</td>\n",
       "      <td>69</td>\n",
       "      <td>90</td>\n",
       "      <td>88</td>\n",
       "    </tr>\n",
       "  </tbody>\n",
       "</table>\n",
       "</div>"
      ],
      "text/plain": [
       "   gender race/ethnicity parental level of education     lunch  \\\n",
       "0  female        group B           bachelor's degree  standard   \n",
       "1  female        group C                some college  standard   \n",
       "\n",
       "  test preparation course  math score  reading score  writing score  \n",
       "0                    none          72             72             74  \n",
       "1               completed          69             90             88  "
      ]
     },
     "execution_count": 17,
     "metadata": {},
     "output_type": "execute_result"
    }
   ],
   "source": [
    "df.head(2)"
   ]
  },
  {
   "cell_type": "code",
   "execution_count": 18,
   "metadata": {},
   "outputs": [],
   "source": [
    "final_group = df.groupby([\"parental level of education\", \"test preparation course\"]).mean().round()"
   ]
  },
  {
   "cell_type": "code",
   "execution_count": 19,
   "metadata": {},
   "outputs": [
    {
     "data": {
      "text/html": [
       "<div>\n",
       "<style scoped>\n",
       "    .dataframe tbody tr th:only-of-type {\n",
       "        vertical-align: middle;\n",
       "    }\n",
       "\n",
       "    .dataframe tbody tr th {\n",
       "        vertical-align: top;\n",
       "    }\n",
       "\n",
       "    .dataframe thead th {\n",
       "        text-align: right;\n",
       "    }\n",
       "</style>\n",
       "<table border=\"1\" class=\"dataframe\">\n",
       "  <thead>\n",
       "    <tr style=\"text-align: right;\">\n",
       "      <th></th>\n",
       "      <th></th>\n",
       "      <th>math score</th>\n",
       "      <th>reading score</th>\n",
       "      <th>writing score</th>\n",
       "    </tr>\n",
       "    <tr>\n",
       "      <th>parental level of education</th>\n",
       "      <th>test preparation course</th>\n",
       "      <th></th>\n",
       "      <th></th>\n",
       "      <th></th>\n",
       "    </tr>\n",
       "  </thead>\n",
       "  <tbody>\n",
       "    <tr>\n",
       "      <th rowspan=\"2\" valign=\"top\">associate's degree</th>\n",
       "      <th>completed</th>\n",
       "      <td>72.0</td>\n",
       "      <td>76.0</td>\n",
       "      <td>77.0</td>\n",
       "    </tr>\n",
       "    <tr>\n",
       "      <th>none</th>\n",
       "      <td>66.0</td>\n",
       "      <td>68.0</td>\n",
       "      <td>66.0</td>\n",
       "    </tr>\n",
       "    <tr>\n",
       "      <th rowspan=\"2\" valign=\"top\">bachelor's degree</th>\n",
       "      <th>completed</th>\n",
       "      <td>73.0</td>\n",
       "      <td>77.0</td>\n",
       "      <td>79.0</td>\n",
       "    </tr>\n",
       "    <tr>\n",
       "      <th>none</th>\n",
       "      <td>67.0</td>\n",
       "      <td>71.0</td>\n",
       "      <td>70.0</td>\n",
       "    </tr>\n",
       "    <tr>\n",
       "      <th rowspan=\"2\" valign=\"top\">high school</th>\n",
       "      <th>completed</th>\n",
       "      <td>65.0</td>\n",
       "      <td>68.0</td>\n",
       "      <td>68.0</td>\n",
       "    </tr>\n",
       "    <tr>\n",
       "      <th>none</th>\n",
       "      <td>61.0</td>\n",
       "      <td>63.0</td>\n",
       "      <td>60.0</td>\n",
       "    </tr>\n",
       "    <tr>\n",
       "      <th rowspan=\"2\" valign=\"top\">master's degree</th>\n",
       "      <th>completed</th>\n",
       "      <td>71.0</td>\n",
       "      <td>78.0</td>\n",
       "      <td>80.0</td>\n",
       "    </tr>\n",
       "    <tr>\n",
       "      <th>none</th>\n",
       "      <td>69.0</td>\n",
       "      <td>74.0</td>\n",
       "      <td>73.0</td>\n",
       "    </tr>\n",
       "    <tr>\n",
       "      <th rowspan=\"2\" valign=\"top\">some college</th>\n",
       "      <th>completed</th>\n",
       "      <td>71.0</td>\n",
       "      <td>76.0</td>\n",
       "      <td>77.0</td>\n",
       "    </tr>\n",
       "    <tr>\n",
       "      <th>none</th>\n",
       "      <td>65.0</td>\n",
       "      <td>66.0</td>\n",
       "      <td>65.0</td>\n",
       "    </tr>\n",
       "    <tr>\n",
       "      <th rowspan=\"2\" valign=\"top\">some high school</th>\n",
       "      <th>completed</th>\n",
       "      <td>67.0</td>\n",
       "      <td>71.0</td>\n",
       "      <td>70.0</td>\n",
       "    </tr>\n",
       "    <tr>\n",
       "      <th>none</th>\n",
       "      <td>61.0</td>\n",
       "      <td>64.0</td>\n",
       "      <td>61.0</td>\n",
       "    </tr>\n",
       "  </tbody>\n",
       "</table>\n",
       "</div>"
      ],
      "text/plain": [
       "                                                     math score  \\\n",
       "parental level of education test preparation course               \n",
       "associate's degree          completed                      72.0   \n",
       "                            none                           66.0   \n",
       "bachelor's degree           completed                      73.0   \n",
       "                            none                           67.0   \n",
       "high school                 completed                      65.0   \n",
       "                            none                           61.0   \n",
       "master's degree             completed                      71.0   \n",
       "                            none                           69.0   \n",
       "some college                completed                      71.0   \n",
       "                            none                           65.0   \n",
       "some high school            completed                      67.0   \n",
       "                            none                           61.0   \n",
       "\n",
       "                                                     reading score  \\\n",
       "parental level of education test preparation course                  \n",
       "associate's degree          completed                         76.0   \n",
       "                            none                              68.0   \n",
       "bachelor's degree           completed                         77.0   \n",
       "                            none                              71.0   \n",
       "high school                 completed                         68.0   \n",
       "                            none                              63.0   \n",
       "master's degree             completed                         78.0   \n",
       "                            none                              74.0   \n",
       "some college                completed                         76.0   \n",
       "                            none                              66.0   \n",
       "some high school            completed                         71.0   \n",
       "                            none                              64.0   \n",
       "\n",
       "                                                     writing score  \n",
       "parental level of education test preparation course                 \n",
       "associate's degree          completed                         77.0  \n",
       "                            none                              66.0  \n",
       "bachelor's degree           completed                         79.0  \n",
       "                            none                              70.0  \n",
       "high school                 completed                         68.0  \n",
       "                            none                              60.0  \n",
       "master's degree             completed                         80.0  \n",
       "                            none                              73.0  \n",
       "some college                completed                         77.0  \n",
       "                            none                              65.0  \n",
       "some high school            completed                         70.0  \n",
       "                            none                              61.0  "
      ]
     },
     "execution_count": 19,
     "metadata": {},
     "output_type": "execute_result"
    }
   ],
   "source": [
    "final_group"
   ]
  },
  {
   "cell_type": "code",
   "execution_count": 20,
   "metadata": {},
   "outputs": [
    {
     "data": {
      "text/plain": [
       "<AxesSubplot:xlabel='parental level of education,test preparation course'>"
      ]
     },
     "execution_count": 20,
     "metadata": {},
     "output_type": "execute_result"
    },
    {
     "data": {
      "image/png": "[encoded data removed]",
      "text/plain": [
       "<Figure size 1152x432 with 1 Axes>"
      ]
     },
     "metadata": {
      "needs_background": "light"
     },
     "output_type": "display_data"
    }
   ],
   "source": [
    "final_group.plot(kind = \"bar\", figsize =(16, 6))"
   ]
  },
  {
   "cell_type": "code",
   "execution_count": null,
   "metadata": {},
   "outputs": [],
   "source": []
  }
 ],
 "metadata": {
  "interpreter": {
   "hash": "c976684e6ec6b57d4c88742738496aeff8749653caf1d6ce921405831425870c"
  },
  "kernelspec": {
   "display_name": "Python 3.8.2 64-bit ('ryednap': conda)",
   "name": "python3"
  },
  "language_info": {
   "codemirror_mode": {
    "name": "ipython",
    "version": 3
   },
   "file_extension": ".py",
   "mimetype": "text/x-python",
   "name": "python",
   "nbconvert_exporter": "python",
   "pygments_lexer": "ipython3",
   "version": "3.8.2"
  },
  "orig_nbformat": 4
 },
 "nbformat": 4,
 "nbformat_minor": 2
}